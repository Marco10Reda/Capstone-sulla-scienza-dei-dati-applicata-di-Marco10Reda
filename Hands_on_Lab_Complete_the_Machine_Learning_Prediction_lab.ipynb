{
  "nbformat": 4,
  "nbformat_minor": 0,
  "metadata": {
    "colab": {
      "provenance": [],
      "authorship_tag": "ABX9TyOPZK06W4/6RWbKNtZkUONZ",
      "include_colab_link": true
    },
    "kernelspec": {
      "name": "python3",
      "display_name": "Python 3"
    },
    "language_info": {
      "name": "python"
    }
  },
  "cells": [
    {
      "cell_type": "markdown",
      "metadata": {
        "id": "view-in-github",
        "colab_type": "text"
      },
      "source": [
        "<a href=\"https://colab.research.google.com/github/Marco10Reda/Capstone-sulla-scienza-dei-dati-applicata-di-Marco10Reda/blob/main/Hands_on_Lab_Complete_the_Machine_Learning_Prediction_lab.ipynb\" target=\"_parent\"><img src=\"https://colab.research.google.com/assets/colab-badge.svg\" alt=\"Open In Colab\"/></a>"
      ]
    },
    {
      "cell_type": "markdown",
      "source": [
        "Space X advertises Falcon 9 rocket launches on its website with a cost of 62 million dollars; other providers cost upward of 165 million dollars each, much of the savings is because Space X can reuse the first stage. Therefore if we can determine if the first stage will land, we can determine the cost of a launch. This information can be used if an alternate company wants to bid against space X for a rocket launch. In this lab, you will create a machine learning pipeline to predict if the first stage will land given the data from the preceding labs."
      ],
      "metadata": {
        "id": "kjqn7sRxmEBq"
      }
    },
    {
      "cell_type": "markdown",
      "source": [
        "Perform exploratory Data Analysis and determine Training Labels\n",
        "\n",
        "create a column for the class\n",
        "Standardize the data\n",
        "Split into training data and test data\n",
        "-Find best Hyperparameter for SVM, Classification Trees and Logistic Regression\n",
        "\n",
        "Find the method performs best using test data"
      ],
      "metadata": {
        "id": "AcS_LUQxwM-r"
      }
    },
    {
      "cell_type": "code",
      "source": [
        "# Pandas is a software library written for the Python programming language for data manipulation and analysis.\n",
        "import pandas as pd\n",
        "# NumPy is a library for the Python programming language, adding support for large, multi-dimensional arrays and matrices, along with a large collection of high-level mathematical functions to operate on these arrays\n",
        "import numpy as np\n",
        "# Matplotlib is a plotting library for python and pyplot gives us a MatLab like plotting framework. We will use this in our plotter function to plot data.\n",
        "import matplotlib.pyplot as plt\n",
        "#Seaborn is a Python data visualization library based on matplotlib. It provides a high-level interface for drawing attractive and informative statistical graphics\n",
        "import seaborn as sns\n",
        "# Preprocessing allows us to standarsize our data\n",
        "from sklearn import preprocessing\n",
        "# Allows us to split our data into training and testing data\n",
        "from sklearn.model_selection import train_test_split\n",
        "# Allows us to test parameters of classification algorithms and find the best one\n",
        "from sklearn.model_selection import GridSearchCV\n",
        "# Logistic Regression classification algorithm\n",
        "from sklearn.linear_model import LogisticRegression\n",
        "# Support Vector Machine classification algorithm\n",
        "from sklearn.svm import SVC\n",
        "# Decision Tree classification algorithm\n",
        "from sklearn.tree import DecisionTreeClassifier\n",
        "# K Nearest Neighbors classification algorithm\n",
        "from sklearn.neighbors import KNeighborsClassifier"
      ],
      "metadata": {
        "id": "xOrSJ2iBwJK3"
      },
      "execution_count": null,
      "outputs": []
    },
    {
      "cell_type": "code",
      "source": [
        "def plot_confusion_matrix(y,y_predict):\n",
        "    \"this function plots the confusion matrix\"\n",
        "    from sklearn.metrics import confusion_matrix\n",
        "\n",
        "    cm = confusion_matrix(y, y_predict)\n",
        "    ax= plt.subplot()\n",
        "    sns.heatmap(cm, annot=True, ax = ax); #annot=True to annotate cells\n",
        "    ax.set_xlabel('Predicted labels')\n",
        "    ax.set_ylabel('True labels')\n",
        "    ax.set_title('Confusion Matrix');\n",
        "    ax.xaxis.set_ticklabels(['did not land', 'land']); ax.yaxis.set_ticklabels(['did not land', 'landed'])\n",
        "    plt.show()"
      ],
      "metadata": {
        "id": "tBwoeLe0wXzu"
      },
      "execution_count": null,
      "outputs": []
    },
    {
      "cell_type": "markdown",
      "source": [
        "Load the dataframe"
      ],
      "metadata": {
        "id": "bg3Zre3iwvkc"
      }
    },
    {
      "cell_type": "code",
      "source": [
        "url = \"https://cf-courses-data.s3.us.cloud-object-storage.appdomain.cloud/IBM-DS0321EN-SkillsNetwork/datasets/dataset_part_2.csv\"\n",
        "URL2 = 'https://cf-courses-data.s3.us.cloud-object-storage.appdomain.cloud/IBM-DS0321EN-SkillsNetwork/datasets/dataset_part_3.csv'\n",
        "df = pd.read_csv(url)\n",
        "\n",
        "# verify successful load with some randomly selected records\n",
        "df.sample(5)"
      ],
      "metadata": {
        "colab": {
          "base_uri": "https://localhost:8080/",
          "height": 313
        },
        "id": "P_82jS9HwwXt",
        "outputId": "3ffd9828-5055-47d8-852b-8cbc900eea2a"
      },
      "execution_count": null,
      "outputs": [
        {
          "output_type": "execute_result",
          "data": {
            "text/plain": [
              "    FlightNumber        Date BoosterVersion  PayloadMass Orbit    LaunchSite  \\\n",
              "68            69  2019-11-11       Falcon 9      15600.0  VLEO  CCAFS SLC 40   \n",
              "61            62  2019-01-11       Falcon 9       9600.0    PO   VAFB SLC 4E   \n",
              "71            72  2020-01-07       Falcon 9      15400.0  VLEO  CCAFS SLC 40   \n",
              "7              8  2014-07-14       Falcon 9       1316.0   LEO  CCAFS SLC 40   \n",
              "76            77  2020-03-18       Falcon 9      15600.0  VLEO    KSC LC 39A   \n",
              "\n",
              "       Outcome  Flights  GridFins  Reused  Legs                LandingPad  \\\n",
              "68   True ASDS        4      True    True  True  5e9e3032383ecb6bb234e7ca   \n",
              "61   True ASDS        2      True    True  True  5e9e3033383ecbb9e534e7cc   \n",
              "71   True ASDS        4      True    True  True  5e9e3032383ecb6bb234e7ca   \n",
              "7   True Ocean        1     False   False  True                       NaN   \n",
              "76  False ASDS        5      True    True  True  5e9e3032383ecb6bb234e7ca   \n",
              "\n",
              "    Block  ReusedCount Serial   Longitude   Latitude  Class  \n",
              "68    5.0            4  B1048  -80.577366  28.561857      1  \n",
              "61    5.0            5  B1049 -120.610829  34.632093      1  \n",
              "71    5.0            5  B1049  -80.577366  28.561857      1  \n",
              "7     1.0            0  B1007  -80.577366  28.561857      1  \n",
              "76    5.0            4  B1048  -80.603956  28.608058      0  "
            ],
            "text/html": [
              "\n",
              "  <div id=\"df-6edc4a69-709f-4e6e-90fe-85258073876e\" class=\"colab-df-container\">\n",
              "    <div>\n",
              "<style scoped>\n",
              "    .dataframe tbody tr th:only-of-type {\n",
              "        vertical-align: middle;\n",
              "    }\n",
              "\n",
              "    .dataframe tbody tr th {\n",
              "        vertical-align: top;\n",
              "    }\n",
              "\n",
              "    .dataframe thead th {\n",
              "        text-align: right;\n",
              "    }\n",
              "</style>\n",
              "<table border=\"1\" class=\"dataframe\">\n",
              "  <thead>\n",
              "    <tr style=\"text-align: right;\">\n",
              "      <th></th>\n",
              "      <th>FlightNumber</th>\n",
              "      <th>Date</th>\n",
              "      <th>BoosterVersion</th>\n",
              "      <th>PayloadMass</th>\n",
              "      <th>Orbit</th>\n",
              "      <th>LaunchSite</th>\n",
              "      <th>Outcome</th>\n",
              "      <th>Flights</th>\n",
              "      <th>GridFins</th>\n",
              "      <th>Reused</th>\n",
              "      <th>Legs</th>\n",
              "      <th>LandingPad</th>\n",
              "      <th>Block</th>\n",
              "      <th>ReusedCount</th>\n",
              "      <th>Serial</th>\n",
              "      <th>Longitude</th>\n",
              "      <th>Latitude</th>\n",
              "      <th>Class</th>\n",
              "    </tr>\n",
              "  </thead>\n",
              "  <tbody>\n",
              "    <tr>\n",
              "      <th>68</th>\n",
              "      <td>69</td>\n",
              "      <td>2019-11-11</td>\n",
              "      <td>Falcon 9</td>\n",
              "      <td>15600.0</td>\n",
              "      <td>VLEO</td>\n",
              "      <td>CCAFS SLC 40</td>\n",
              "      <td>True ASDS</td>\n",
              "      <td>4</td>\n",
              "      <td>True</td>\n",
              "      <td>True</td>\n",
              "      <td>True</td>\n",
              "      <td>5e9e3032383ecb6bb234e7ca</td>\n",
              "      <td>5.0</td>\n",
              "      <td>4</td>\n",
              "      <td>B1048</td>\n",
              "      <td>-80.577366</td>\n",
              "      <td>28.561857</td>\n",
              "      <td>1</td>\n",
              "    </tr>\n",
              "    <tr>\n",
              "      <th>61</th>\n",
              "      <td>62</td>\n",
              "      <td>2019-01-11</td>\n",
              "      <td>Falcon 9</td>\n",
              "      <td>9600.0</td>\n",
              "      <td>PO</td>\n",
              "      <td>VAFB SLC 4E</td>\n",
              "      <td>True ASDS</td>\n",
              "      <td>2</td>\n",
              "      <td>True</td>\n",
              "      <td>True</td>\n",
              "      <td>True</td>\n",
              "      <td>5e9e3033383ecbb9e534e7cc</td>\n",
              "      <td>5.0</td>\n",
              "      <td>5</td>\n",
              "      <td>B1049</td>\n",
              "      <td>-120.610829</td>\n",
              "      <td>34.632093</td>\n",
              "      <td>1</td>\n",
              "    </tr>\n",
              "    <tr>\n",
              "      <th>71</th>\n",
              "      <td>72</td>\n",
              "      <td>2020-01-07</td>\n",
              "      <td>Falcon 9</td>\n",
              "      <td>15400.0</td>\n",
              "      <td>VLEO</td>\n",
              "      <td>CCAFS SLC 40</td>\n",
              "      <td>True ASDS</td>\n",
              "      <td>4</td>\n",
              "      <td>True</td>\n",
              "      <td>True</td>\n",
              "      <td>True</td>\n",
              "      <td>5e9e3032383ecb6bb234e7ca</td>\n",
              "      <td>5.0</td>\n",
              "      <td>5</td>\n",
              "      <td>B1049</td>\n",
              "      <td>-80.577366</td>\n",
              "      <td>28.561857</td>\n",
              "      <td>1</td>\n",
              "    </tr>\n",
              "    <tr>\n",
              "      <th>7</th>\n",
              "      <td>8</td>\n",
              "      <td>2014-07-14</td>\n",
              "      <td>Falcon 9</td>\n",
              "      <td>1316.0</td>\n",
              "      <td>LEO</td>\n",
              "      <td>CCAFS SLC 40</td>\n",
              "      <td>True Ocean</td>\n",
              "      <td>1</td>\n",
              "      <td>False</td>\n",
              "      <td>False</td>\n",
              "      <td>True</td>\n",
              "      <td>NaN</td>\n",
              "      <td>1.0</td>\n",
              "      <td>0</td>\n",
              "      <td>B1007</td>\n",
              "      <td>-80.577366</td>\n",
              "      <td>28.561857</td>\n",
              "      <td>1</td>\n",
              "    </tr>\n",
              "    <tr>\n",
              "      <th>76</th>\n",
              "      <td>77</td>\n",
              "      <td>2020-03-18</td>\n",
              "      <td>Falcon 9</td>\n",
              "      <td>15600.0</td>\n",
              "      <td>VLEO</td>\n",
              "      <td>KSC LC 39A</td>\n",
              "      <td>False ASDS</td>\n",
              "      <td>5</td>\n",
              "      <td>True</td>\n",
              "      <td>True</td>\n",
              "      <td>True</td>\n",
              "      <td>5e9e3032383ecb6bb234e7ca</td>\n",
              "      <td>5.0</td>\n",
              "      <td>4</td>\n",
              "      <td>B1048</td>\n",
              "      <td>-80.603956</td>\n",
              "      <td>28.608058</td>\n",
              "      <td>0</td>\n",
              "    </tr>\n",
              "  </tbody>\n",
              "</table>\n",
              "</div>\n",
              "    <div class=\"colab-df-buttons\">\n",
              "\n",
              "  <div class=\"colab-df-container\">\n",
              "    <button class=\"colab-df-convert\" onclick=\"convertToInteractive('df-6edc4a69-709f-4e6e-90fe-85258073876e')\"\n",
              "            title=\"Convert this dataframe to an interactive table.\"\n",
              "            style=\"display:none;\">\n",
              "\n",
              "  <svg xmlns=\"http://www.w3.org/2000/svg\" height=\"24px\" viewBox=\"0 -960 960 960\">\n",
              "    <path d=\"M120-120v-720h720v720H120Zm60-500h600v-160H180v160Zm220 220h160v-160H400v160Zm0 220h160v-160H400v160ZM180-400h160v-160H180v160Zm440 0h160v-160H620v160ZM180-180h160v-160H180v160Zm440 0h160v-160H620v160Z\"/>\n",
              "  </svg>\n",
              "    </button>\n",
              "\n",
              "  <style>\n",
              "    .colab-df-container {\n",
              "      display:flex;\n",
              "      gap: 12px;\n",
              "    }\n",
              "\n",
              "    .colab-df-convert {\n",
              "      background-color: #E8F0FE;\n",
              "      border: none;\n",
              "      border-radius: 50%;\n",
              "      cursor: pointer;\n",
              "      display: none;\n",
              "      fill: #1967D2;\n",
              "      height: 32px;\n",
              "      padding: 0 0 0 0;\n",
              "      width: 32px;\n",
              "    }\n",
              "\n",
              "    .colab-df-convert:hover {\n",
              "      background-color: #E2EBFA;\n",
              "      box-shadow: 0px 1px 2px rgba(60, 64, 67, 0.3), 0px 1px 3px 1px rgba(60, 64, 67, 0.15);\n",
              "      fill: #174EA6;\n",
              "    }\n",
              "\n",
              "    .colab-df-buttons div {\n",
              "      margin-bottom: 4px;\n",
              "    }\n",
              "\n",
              "    [theme=dark] .colab-df-convert {\n",
              "      background-color: #3B4455;\n",
              "      fill: #D2E3FC;\n",
              "    }\n",
              "\n",
              "    [theme=dark] .colab-df-convert:hover {\n",
              "      background-color: #434B5C;\n",
              "      box-shadow: 0px 1px 3px 1px rgba(0, 0, 0, 0.15);\n",
              "      filter: drop-shadow(0px 1px 2px rgba(0, 0, 0, 0.3));\n",
              "      fill: #FFFFFF;\n",
              "    }\n",
              "  </style>\n",
              "\n",
              "    <script>\n",
              "      const buttonEl =\n",
              "        document.querySelector('#df-6edc4a69-709f-4e6e-90fe-85258073876e button.colab-df-convert');\n",
              "      buttonEl.style.display =\n",
              "        google.colab.kernel.accessAllowed ? 'block' : 'none';\n",
              "\n",
              "      async function convertToInteractive(key) {\n",
              "        const element = document.querySelector('#df-6edc4a69-709f-4e6e-90fe-85258073876e');\n",
              "        const dataTable =\n",
              "          await google.colab.kernel.invokeFunction('convertToInteractive',\n",
              "                                                    [key], {});\n",
              "        if (!dataTable) return;\n",
              "\n",
              "        const docLinkHtml = 'Like what you see? Visit the ' +\n",
              "          '<a target=\"_blank\" href=https://colab.research.google.com/notebooks/data_table.ipynb>data table notebook</a>'\n",
              "          + ' to learn more about interactive tables.';\n",
              "        element.innerHTML = '';\n",
              "        dataTable['output_type'] = 'display_data';\n",
              "        await google.colab.output.renderOutput(dataTable, element);\n",
              "        const docLink = document.createElement('div');\n",
              "        docLink.innerHTML = docLinkHtml;\n",
              "        element.appendChild(docLink);\n",
              "      }\n",
              "    </script>\n",
              "  </div>\n",
              "\n",
              "\n",
              "    <div id=\"df-388bfc14-9bcd-411e-9b52-4bafde3fa1be\">\n",
              "      <button class=\"colab-df-quickchart\" onclick=\"quickchart('df-388bfc14-9bcd-411e-9b52-4bafde3fa1be')\"\n",
              "                title=\"Suggest charts\"\n",
              "                style=\"display:none;\">\n",
              "\n",
              "<svg xmlns=\"http://www.w3.org/2000/svg\" height=\"24px\"viewBox=\"0 0 24 24\"\n",
              "     width=\"24px\">\n",
              "    <g>\n",
              "        <path d=\"M19 3H5c-1.1 0-2 .9-2 2v14c0 1.1.9 2 2 2h14c1.1 0 2-.9 2-2V5c0-1.1-.9-2-2-2zM9 17H7v-7h2v7zm4 0h-2V7h2v10zm4 0h-2v-4h2v4z\"/>\n",
              "    </g>\n",
              "</svg>\n",
              "      </button>\n",
              "\n",
              "<style>\n",
              "  .colab-df-quickchart {\n",
              "      --bg-color: #E8F0FE;\n",
              "      --fill-color: #1967D2;\n",
              "      --hover-bg-color: #E2EBFA;\n",
              "      --hover-fill-color: #174EA6;\n",
              "      --disabled-fill-color: #AAA;\n",
              "      --disabled-bg-color: #DDD;\n",
              "  }\n",
              "\n",
              "  [theme=dark] .colab-df-quickchart {\n",
              "      --bg-color: #3B4455;\n",
              "      --fill-color: #D2E3FC;\n",
              "      --hover-bg-color: #434B5C;\n",
              "      --hover-fill-color: #FFFFFF;\n",
              "      --disabled-bg-color: #3B4455;\n",
              "      --disabled-fill-color: #666;\n",
              "  }\n",
              "\n",
              "  .colab-df-quickchart {\n",
              "    background-color: var(--bg-color);\n",
              "    border: none;\n",
              "    border-radius: 50%;\n",
              "    cursor: pointer;\n",
              "    display: none;\n",
              "    fill: var(--fill-color);\n",
              "    height: 32px;\n",
              "    padding: 0;\n",
              "    width: 32px;\n",
              "  }\n",
              "\n",
              "  .colab-df-quickchart:hover {\n",
              "    background-color: var(--hover-bg-color);\n",
              "    box-shadow: 0 1px 2px rgba(60, 64, 67, 0.3), 0 1px 3px 1px rgba(60, 64, 67, 0.15);\n",
              "    fill: var(--button-hover-fill-color);\n",
              "  }\n",
              "\n",
              "  .colab-df-quickchart-complete:disabled,\n",
              "  .colab-df-quickchart-complete:disabled:hover {\n",
              "    background-color: var(--disabled-bg-color);\n",
              "    fill: var(--disabled-fill-color);\n",
              "    box-shadow: none;\n",
              "  }\n",
              "\n",
              "  .colab-df-spinner {\n",
              "    border: 2px solid var(--fill-color);\n",
              "    border-color: transparent;\n",
              "    border-bottom-color: var(--fill-color);\n",
              "    animation:\n",
              "      spin 1s steps(1) infinite;\n",
              "  }\n",
              "\n",
              "  @keyframes spin {\n",
              "    0% {\n",
              "      border-color: transparent;\n",
              "      border-bottom-color: var(--fill-color);\n",
              "      border-left-color: var(--fill-color);\n",
              "    }\n",
              "    20% {\n",
              "      border-color: transparent;\n",
              "      border-left-color: var(--fill-color);\n",
              "      border-top-color: var(--fill-color);\n",
              "    }\n",
              "    30% {\n",
              "      border-color: transparent;\n",
              "      border-left-color: var(--fill-color);\n",
              "      border-top-color: var(--fill-color);\n",
              "      border-right-color: var(--fill-color);\n",
              "    }\n",
              "    40% {\n",
              "      border-color: transparent;\n",
              "      border-right-color: var(--fill-color);\n",
              "      border-top-color: var(--fill-color);\n",
              "    }\n",
              "    60% {\n",
              "      border-color: transparent;\n",
              "      border-right-color: var(--fill-color);\n",
              "    }\n",
              "    80% {\n",
              "      border-color: transparent;\n",
              "      border-right-color: var(--fill-color);\n",
              "      border-bottom-color: var(--fill-color);\n",
              "    }\n",
              "    90% {\n",
              "      border-color: transparent;\n",
              "      border-bottom-color: var(--fill-color);\n",
              "    }\n",
              "  }\n",
              "</style>\n",
              "\n",
              "      <script>\n",
              "        async function quickchart(key) {\n",
              "          const quickchartButtonEl =\n",
              "            document.querySelector('#' + key + ' button');\n",
              "          quickchartButtonEl.disabled = true;  // To prevent multiple clicks.\n",
              "          quickchartButtonEl.classList.add('colab-df-spinner');\n",
              "          try {\n",
              "            const charts = await google.colab.kernel.invokeFunction(\n",
              "                'suggestCharts', [key], {});\n",
              "          } catch (error) {\n",
              "            console.error('Error during call to suggestCharts:', error);\n",
              "          }\n",
              "          quickchartButtonEl.classList.remove('colab-df-spinner');\n",
              "          quickchartButtonEl.classList.add('colab-df-quickchart-complete');\n",
              "        }\n",
              "        (() => {\n",
              "          let quickchartButtonEl =\n",
              "            document.querySelector('#df-388bfc14-9bcd-411e-9b52-4bafde3fa1be button');\n",
              "          quickchartButtonEl.style.display =\n",
              "            google.colab.kernel.accessAllowed ? 'block' : 'none';\n",
              "        })();\n",
              "      </script>\n",
              "    </div>\n",
              "\n",
              "    </div>\n",
              "  </div>\n"
            ],
            "application/vnd.google.colaboratory.intrinsic+json": {
              "type": "dataframe",
              "repr_error": "0"
            }
          },
          "metadata": {},
          "execution_count": 20
        }
      ]
    },
    {
      "cell_type": "markdown",
      "source": [
        "TASK 1\n",
        "Create a NumPy array from the column Class in data, by applying the method to_numpy() then assign it to the variable Y,make sure the output is a Pandas series (only one bracket df['name of column'])."
      ],
      "metadata": {
        "id": "5c9LXKJ9xvKH"
      }
    },
    {
      "cell_type": "code",
      "source": [
        "# Estrarre colonna Class come Pandas Series e convertirla in NumPy array\n",
        "Y = df['Class'].to_numpy()\n",
        "\n",
        "# Controllo\n",
        "print(type(Y))   # <class 'numpy.ndarray'>\n",
        "print(Y[:10])    # mostra i primi 10 valori"
      ],
      "metadata": {
        "colab": {
          "base_uri": "https://localhost:8080/"
        },
        "id": "_j1YBTSgx2eU",
        "outputId": "9b08db81-6ef2-49e0-cd96-2bb68b50c566"
      },
      "execution_count": null,
      "outputs": [
        {
          "output_type": "stream",
          "name": "stdout",
          "text": [
            "<class 'numpy.ndarray'>\n",
            "[0 0 0 0 0 0 1 1 0 0]\n"
          ]
        }
      ]
    },
    {
      "cell_type": "markdown",
      "source": [
        "TASK 2\n",
        "Standardize the data in X then reassign it to the variable X using the transform provided below."
      ],
      "metadata": {
        "id": "ipYv4rCByMXT"
      }
    },
    {
      "cell_type": "markdown",
      "source": [
        "We split the data into training and testing data using the function train_test_split. The training data is divided into validation data, a second set used for training data; then the models are trained and hyperparameters are selected using the function GridSearchCV"
      ],
      "metadata": {
        "id": "Cn-PM_NH-NEO"
      }
    },
    {
      "cell_type": "code",
      "source": [
        "#TASK 1 2 3\n",
        "import pandas as pd\n",
        "import numpy as np\n",
        "from sklearn import preprocessing\n",
        "from sklearn.model_selection import train_test_split\n",
        "\n",
        "# Carico il dataset\n",
        "url = \"https://cf-courses-data.s3.us.cloud-object-storage.appdomain.cloud/IBM-DS0321EN-SkillsNetwork/datasets/dataset_part_2.csv\"\n",
        "data = pd.read_csv(url)\n",
        "\n",
        "# ============ TASK 1 ============\n",
        "# Creare un array NumPy dalla colonna 'Class'\n",
        "Y = data['Class'].to_numpy()\n",
        "\n",
        "# ============ TASK 2 ============\n",
        "# Selezioniamo solo le colonne numeriche\n",
        "X = data.drop('Class', axis=1)\n",
        "X = X.select_dtypes(include=['float64', 'int64'])\n",
        "\n",
        "# Standardizzazione\n",
        "transform = preprocessing.StandardScaler()\n",
        "X = transform.fit_transform(X)\n",
        "\n",
        "\n",
        "# ============ TASK 3 ============\n",
        "# Split train/test con test_size=0.2 e random_state=2\n",
        "X_train, X_test, Y_train, Y_test = train_test_split(X, Y, test_size=0.2, random_state=2)\n",
        "\n",
        "# Controllo delle dimensioni\n",
        "print(\"X_train shape:\", X_train.shape)\n",
        "print(\"X_test shape:\", X_test.shape)\n",
        "print(\"Y_train shape:\", Y_train.shape)\n",
        "print(\"Y_test shape:\", Y_test.shape)\n"
      ],
      "metadata": {
        "colab": {
          "base_uri": "https://localhost:8080/"
        },
        "id": "vB7UJnsD-N7y",
        "outputId": "00948dee-70cf-4c17-a175-07b0985a04d1"
      },
      "execution_count": null,
      "outputs": [
        {
          "output_type": "stream",
          "name": "stdout",
          "text": [
            "X_train shape: (72, 7)\n",
            "X_test shape: (18, 7)\n",
            "Y_train shape: (72,)\n",
            "Y_test shape: (18,)\n"
          ]
        }
      ]
    },
    {
      "cell_type": "code",
      "source": [
        "from sklearn.linear_model import LogisticRegression\n",
        "from sklearn.model_selection import GridSearchCV\n",
        "\n",
        "# ============ TASK 4 ============\n",
        "\n",
        "# Definiamo i parametri da testare\n",
        "parameters = {'C':[0.01,0.1,1],\n",
        "              'penalty':['l2'],\n",
        "              'solver':['lbfgs']}\n",
        "\n",
        "# Creiamo il modello di regressione logistica\n",
        "lr = LogisticRegression(max_iter=1000)  # max_iter alzato per evitare warning di convergenza\n",
        "\n",
        "# Creiamo il GridSearchCV con 10-fold cross-validation\n",
        "logreg_cv = GridSearchCV(lr, parameters, cv=10)\n",
        "\n",
        "# Fit sul training set\n",
        "logreg_cv.fit(X_train, Y_train)\n",
        "\n",
        "# Migliori parametri trovati\n",
        "print(\"Best parameters:\", logreg_cv.best_params_)\n",
        "\n",
        "# Accuracy migliore\n",
        "print(\"Best score:\", logreg_cv.best_score_)\n",
        "\n",
        "# Valutazione sul test set\n",
        "print(\"Test set accuracy:\", logreg_cv.score(X_test, Y_test))\n"
      ],
      "metadata": {
        "colab": {
          "base_uri": "https://localhost:8080/"
        },
        "id": "-zzJCJZLAMAl",
        "outputId": "3568483a-4972-4eed-e942-8a0f7b69f7f6"
      },
      "execution_count": null,
      "outputs": [
        {
          "output_type": "stream",
          "name": "stdout",
          "text": [
            "Best parameters: {'C': 1, 'penalty': 'l2', 'solver': 'lbfgs'}\n",
            "Best score: 0.7446428571428572\n",
            "Test set accuracy: 0.8333333333333334\n"
          ]
        }
      ]
    },
    {
      "cell_type": "code",
      "source": [
        "# ============ TASK 5 ============\n",
        "\n",
        "# Calcolo dell'accuracy sul test set\n",
        "test_accuracy = logreg_cv.score(X_test, Y_test)\n",
        "\n",
        "print(\"Accuracy on test data:\", test_accuracy)\n"
      ],
      "metadata": {
        "colab": {
          "base_uri": "https://localhost:8080/"
        },
        "id": "7biJscwfAabM",
        "outputId": "a7e3ebbc-b720-4904-f83e-0da9464ac9d1"
      },
      "execution_count": null,
      "outputs": [
        {
          "output_type": "stream",
          "name": "stdout",
          "text": [
            "Accuracy on test data: 0.8333333333333334\n"
          ]
        }
      ]
    },
    {
      "cell_type": "code",
      "source": [
        "from sklearn.svm import SVC\n",
        "\n",
        "# ============ TASK 6 ============\n",
        "\n",
        "# Dizionario dei parametri da testare\n",
        "parameters = {\n",
        "    'kernel': ('linear', 'rbf', 'poly', 'sigmoid'),  # tolgo il duplicato 'rbf'\n",
        "    'C': np.logspace(-3, 3, 5),   # [0.001, 0.01, 0.1, 1, 10, 100, 1000]\n",
        "    'gamma': np.logspace(-3, 3, 5)\n",
        "}\n",
        "\n",
        "# Creazione del modello SVM\n",
        "svm = SVC()\n",
        "\n",
        "# GridSearchCV con cv=10\n",
        "svm_cv = GridSearchCV(svm, parameters, cv=10)\n",
        "\n",
        "# Fit sul training set\n",
        "svm_cv.fit(X_train, Y_train)\n",
        "\n",
        "# Migliori parametri trovati\n",
        "print(\"Best parameters:\", svm_cv.best_params_)\n",
        "\n",
        "# Miglior punteggio di cross-validation\n",
        "print(\"Best cross-validation score:\", svm_cv.best_score_)\n",
        "\n",
        "# Accuracy sul test set\n",
        "print(\"Test set accuracy:\", svm_cv.score(X_test, Y_test))\n"
      ],
      "metadata": {
        "colab": {
          "base_uri": "https://localhost:8080/"
        },
        "id": "fcrT09YEAtf6",
        "outputId": "d1b36287-9570-4984-fe61-405818cf2bde"
      },
      "execution_count": null,
      "outputs": [
        {
          "output_type": "stream",
          "name": "stdout",
          "text": [
            "Best parameters: {'C': np.float64(1000.0), 'gamma': np.float64(0.03162277660168379), 'kernel': 'sigmoid'}\n",
            "Best cross-validation score: 0.8321428571428571\n",
            "Test set accuracy: 0.7777777777777778\n"
          ]
        }
      ]
    },
    {
      "cell_type": "code",
      "source": [
        "from sklearn.tree import DecisionTreeClassifier\n",
        "\n",
        "# ============ TASK 8 ============\n",
        "\n",
        "# Definizione del dizionario dei parametri\n",
        "parameters = {\n",
        "    'criterion': ['gini', 'entropy'],\n",
        "    'splitter': ['best', 'random'],\n",
        "    'max_depth': [2*n for n in range(1,10)],\n",
        "    'max_features': ['sqrt', 'log2'],  # 'auto' è deprecato per DecisionTreeClassifier\n",
        "    'min_samples_leaf': [1, 2, 4],\n",
        "    'min_samples_split': [2, 5, 10]\n",
        "}\n",
        "\n",
        "# Creiamo il modello Decision Tree\n",
        "tree = DecisionTreeClassifier(random_state=2)\n",
        "\n",
        "# Creiamo il GridSearchCV con 10-fold cross-validation\n",
        "tree_cv = GridSearchCV(tree, parameters, cv=10)\n",
        "\n",
        "# Fit sul training set\n",
        "tree_cv.fit(X_train, Y_train)\n",
        "\n",
        "# Migliori parametri trovati\n",
        "print(\"Best parameters:\", tree_cv.best_params_)\n",
        "\n",
        "# Accuracy media in cross-validation\n",
        "print(\"Best cross-validation score:\", tree_cv.best_score_)\n",
        "\n",
        "# Accuracy sul test set\n",
        "print(\"Test set accuracy:\", tree_cv.score(X_test, Y_test))\n"
      ],
      "metadata": {
        "colab": {
          "base_uri": "https://localhost:8080/"
        },
        "id": "gCOnJKxqB0gJ",
        "outputId": "8e5d9302-8906-43ac-aaac-e39c049ba322"
      },
      "execution_count": null,
      "outputs": [
        {
          "output_type": "stream",
          "name": "stdout",
          "text": [
            "Best parameters: {'criterion': 'gini', 'max_depth': 8, 'max_features': 'sqrt', 'min_samples_leaf': 4, 'min_samples_split': 10, 'splitter': 'random'}\n",
            "Best cross-validation score: 0.8160714285714284\n",
            "Test set accuracy: 0.8888888888888888\n"
          ]
        }
      ]
    },
    {
      "cell_type": "code",
      "source": [
        "from sklearn.neighbors import KNeighborsClassifier\n",
        "\n",
        "# ============ TASK 10 ============\n",
        "\n",
        "# Dizionario dei parametri da testare\n",
        "parameters = {\n",
        "    'n_neighbors': [1,2,3,4,5,6,7,8,9,10],\n",
        "    'algorithm': ['auto', 'ball_tree', 'kd_tree', 'brute'],\n",
        "    'p': [1, 2]   # p=1 -> Manhattan, p=2 -> Euclidean\n",
        "}\n",
        "\n",
        "# Creazione del modello KNN\n",
        "KNN = KNeighborsClassifier()\n",
        "\n",
        "# GridSearchCV con 10-fold cross validation\n",
        "knn_cv = GridSearchCV(KNN, parameters, cv=10)\n",
        "\n",
        "# Fit sul training set\n",
        "knn_cv.fit(X_train, Y_train)\n",
        "\n",
        "# Migliori parametri trovati\n",
        "print(\"Best parameters:\", knn_cv.best_params_)\n",
        "\n",
        "# Migliore accuracy media in cross-validation\n",
        "print(\"Best cross-validation score:\", knn_cv.best_score_)\n",
        "\n",
        "# Accuracy sul test set\n",
        "print(\"Test set accuracy:\", knn_cv.score(X_test, Y_test))\n"
      ],
      "metadata": {
        "colab": {
          "base_uri": "https://localhost:8080/"
        },
        "id": "XgI5Y-FPCf08",
        "outputId": "9679eb4e-3ca8-46cb-bfd2-3bf80c4d0ed1"
      },
      "execution_count": null,
      "outputs": [
        {
          "output_type": "stream",
          "name": "stdout",
          "text": [
            "Best parameters: {'algorithm': 'auto', 'n_neighbors': 3, 'p': 2}\n",
            "Best cross-validation score: 0.7785714285714286\n",
            "Test set accuracy: 0.7222222222222222\n"
          ]
        }
      ]
    },
    {
      "cell_type": "code",
      "source": [
        "# ========TASK12=======\n",
        "#===== Riepilogo delle accuracy ============\n",
        "# Accuracy di ciascun modello\n",
        "logreg_accuracy = logreg_cv.score(X_test, Y_test)\n",
        "svm_accuracy = svm_cv.score(X_test, Y_test)\n",
        "knn_accuracy = knn_cv.score(X_test, Y_test)\n",
        "\n",
        "# Creiamo un DataFrame per confrontarle facilmente\n",
        "import pandas as pd\n",
        "\n",
        "accuracy_summary = pd.DataFrame({\n",
        "    'Model': ['Logistic Regression', 'SVM', 'KNN'],\n",
        "    'Test Accuracy': [logreg_accuracy, svm_accuracy, knn_accuracy]\n",
        "})\n",
        "\n",
        "# Mostriamo il risultato in percentuale\n",
        "accuracy_summary['Test Accuracy (%)'] = accuracy_summary['Test Accuracy'] * 100\n",
        "\n",
        "print(accuracy_summary)\n"
      ],
      "metadata": {
        "colab": {
          "base_uri": "https://localhost:8080/"
        },
        "id": "U6vCfd_YDXDQ",
        "outputId": "c53fa95d-d7cf-48f8-ad9f-feb33f78b763"
      },
      "execution_count": null,
      "outputs": [
        {
          "output_type": "stream",
          "name": "stdout",
          "text": [
            "                 Model  Test Accuracy  Test Accuracy (%)\n",
            "0  Logistic Regression       0.833333          83.333333\n",
            "1                  SVM       0.777778          77.777778\n",
            "2                  KNN       0.722222          72.222222\n"
          ]
        }
      ]
    },
    {
      "cell_type": "code",
      "source": [
        "print(Y)"
      ],
      "metadata": {
        "colab": {
          "base_uri": "https://localhost:8080/"
        },
        "id": "-BPCZv77Ds5d",
        "outputId": "be85b645-9411-4ebc-e62c-049de3bce940"
      },
      "execution_count": null,
      "outputs": [
        {
          "output_type": "stream",
          "name": "stdout",
          "text": [
            "[0 0 0 0 0 0 1 1 0 0 0 0 1 0 0 0 1 0 0 1 1 1 1 1 0 1 1 0 1 1 0 1 1 1 0 1 1\n",
            " 1 1 1 1 1 1 1 1 0 0 0 1 1 0 0 1 1 1 1 1 1 1 0 0 1 1 1 1 1 1 0 1 1 1 1 0 1\n",
            " 0 1 0 1 1 1 1 1 1 1 1 1 1 1 1 1]\n"
          ]
        }
      ]
    }
  ]
}